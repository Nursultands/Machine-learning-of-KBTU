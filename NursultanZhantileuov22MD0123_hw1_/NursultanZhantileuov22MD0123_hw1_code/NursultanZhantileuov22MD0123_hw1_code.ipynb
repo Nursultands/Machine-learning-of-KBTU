{
 "cells": [
  {
   "cell_type": "markdown",
   "metadata": {},
   "source": [
    "#### Nursultan Zhantileuov\n",
    "\n",
    "####  MSc in DS, 1 course\n",
    "\n",
    "####  Homework 1"
   ]
  },
  {
   "cell_type": "code",
   "execution_count": 1,
   "metadata": {},
   "outputs": [],
   "source": [
    "import numpy as np\n",
    "import math\n",
    "import pandas as pd\n",
    "import matplotlib.pyplot as plt\n",
    "import seaborn as sns\n",
    "import numpy.random as rd\n",
    "from sklearn.model_selection import train_test_split\n",
    "from sklearn.preprocessing import LabelEncoder, StandardScaler, MinMaxScaler\n",
    "from sklearn.metrics import confusion_matrix, classification_report, accuracy_score, recall_score, precision_score, f1_score"
   ]
  },
  {
   "cell_type": "markdown",
   "metadata": {},
   "source": [
    "# Taks: 1"
   ]
  },
  {
   "cell_type": "markdown",
   "metadata": {},
   "source": [
    "#### 1. Predict house price of King county in the USA by modifying the linear regression sample code provided in Practice 2 at the class. Dataset and code will be available in the class file directory (15 points).\n",
    "A. Linear Regression: Code in Practice 2\n",
    "\n",
    "B. Dataset: Dataset in class file directory\n",
    "\n",
    "C. The price should be predicted with features of bedrooms, yr_built, and grade.\n",
    "\n",
    "D. Performance metric should include training loss.\n",
    "\n",
    "E. You should predict the price with the following data (3 bedrooms, Year 1980, grade\n",
    "8)."
   ]
  },
  {
   "cell_type": "markdown",
   "metadata": {},
   "source": [
    "## Data pre-processing"
   ]
  },
  {
   "cell_type": "code",
   "execution_count": 2,
   "metadata": {},
   "outputs": [
    {
     "data": {
      "text/html": [
       "<div>\n",
       "<style scoped>\n",
       "    .dataframe tbody tr th:only-of-type {\n",
       "        vertical-align: middle;\n",
       "    }\n",
       "\n",
       "    .dataframe tbody tr th {\n",
       "        vertical-align: top;\n",
       "    }\n",
       "\n",
       "    .dataframe thead th {\n",
       "        text-align: right;\n",
       "    }\n",
       "</style>\n",
       "<table border=\"1\" class=\"dataframe\">\n",
       "  <thead>\n",
       "    <tr style=\"text-align: right;\">\n",
       "      <th></th>\n",
       "      <th>id</th>\n",
       "      <th>date</th>\n",
       "      <th>price</th>\n",
       "      <th>bedrooms</th>\n",
       "      <th>bathrooms</th>\n",
       "      <th>sqft_living</th>\n",
       "      <th>sqft_lot</th>\n",
       "      <th>floors</th>\n",
       "      <th>waterfront</th>\n",
       "      <th>view</th>\n",
       "      <th>...</th>\n",
       "      <th>grade</th>\n",
       "      <th>sqft_above</th>\n",
       "      <th>sqft_basement</th>\n",
       "      <th>yr_built</th>\n",
       "      <th>yr_renovated</th>\n",
       "      <th>zipcode</th>\n",
       "      <th>lat</th>\n",
       "      <th>long</th>\n",
       "      <th>sqft_living15</th>\n",
       "      <th>sqft_lot15</th>\n",
       "    </tr>\n",
       "  </thead>\n",
       "  <tbody>\n",
       "    <tr>\n",
       "      <th>0</th>\n",
       "      <td>7129300520</td>\n",
       "      <td>10/13/2014</td>\n",
       "      <td>221900.0</td>\n",
       "      <td>3</td>\n",
       "      <td>1.00</td>\n",
       "      <td>1180</td>\n",
       "      <td>5650</td>\n",
       "      <td>1.0</td>\n",
       "      <td>NaN</td>\n",
       "      <td>0.0</td>\n",
       "      <td>...</td>\n",
       "      <td>7</td>\n",
       "      <td>1180</td>\n",
       "      <td>0.0</td>\n",
       "      <td>1955</td>\n",
       "      <td>0.0</td>\n",
       "      <td>98178</td>\n",
       "      <td>47.5112</td>\n",
       "      <td>-122.257</td>\n",
       "      <td>1340</td>\n",
       "      <td>5650</td>\n",
       "    </tr>\n",
       "    <tr>\n",
       "      <th>1</th>\n",
       "      <td>6414100192</td>\n",
       "      <td>12/9/2014</td>\n",
       "      <td>538000.0</td>\n",
       "      <td>3</td>\n",
       "      <td>2.25</td>\n",
       "      <td>2570</td>\n",
       "      <td>7242</td>\n",
       "      <td>2.0</td>\n",
       "      <td>0.0</td>\n",
       "      <td>0.0</td>\n",
       "      <td>...</td>\n",
       "      <td>7</td>\n",
       "      <td>2170</td>\n",
       "      <td>400.0</td>\n",
       "      <td>1951</td>\n",
       "      <td>1991.0</td>\n",
       "      <td>98125</td>\n",
       "      <td>47.7210</td>\n",
       "      <td>-122.319</td>\n",
       "      <td>1690</td>\n",
       "      <td>7639</td>\n",
       "    </tr>\n",
       "    <tr>\n",
       "      <th>2</th>\n",
       "      <td>5631500400</td>\n",
       "      <td>2/25/2015</td>\n",
       "      <td>180000.0</td>\n",
       "      <td>2</td>\n",
       "      <td>1.00</td>\n",
       "      <td>770</td>\n",
       "      <td>10000</td>\n",
       "      <td>1.0</td>\n",
       "      <td>0.0</td>\n",
       "      <td>0.0</td>\n",
       "      <td>...</td>\n",
       "      <td>6</td>\n",
       "      <td>770</td>\n",
       "      <td>0.0</td>\n",
       "      <td>1933</td>\n",
       "      <td>NaN</td>\n",
       "      <td>98028</td>\n",
       "      <td>47.7379</td>\n",
       "      <td>-122.233</td>\n",
       "      <td>2720</td>\n",
       "      <td>8062</td>\n",
       "    </tr>\n",
       "    <tr>\n",
       "      <th>3</th>\n",
       "      <td>2487200875</td>\n",
       "      <td>12/9/2014</td>\n",
       "      <td>604000.0</td>\n",
       "      <td>4</td>\n",
       "      <td>3.00</td>\n",
       "      <td>1960</td>\n",
       "      <td>5000</td>\n",
       "      <td>1.0</td>\n",
       "      <td>0.0</td>\n",
       "      <td>0.0</td>\n",
       "      <td>...</td>\n",
       "      <td>7</td>\n",
       "      <td>1050</td>\n",
       "      <td>910.0</td>\n",
       "      <td>1965</td>\n",
       "      <td>0.0</td>\n",
       "      <td>98136</td>\n",
       "      <td>47.5208</td>\n",
       "      <td>-122.393</td>\n",
       "      <td>1360</td>\n",
       "      <td>5000</td>\n",
       "    </tr>\n",
       "    <tr>\n",
       "      <th>4</th>\n",
       "      <td>1954400510</td>\n",
       "      <td>2/18/2015</td>\n",
       "      <td>510000.0</td>\n",
       "      <td>3</td>\n",
       "      <td>2.00</td>\n",
       "      <td>1680</td>\n",
       "      <td>8080</td>\n",
       "      <td>1.0</td>\n",
       "      <td>0.0</td>\n",
       "      <td>0.0</td>\n",
       "      <td>...</td>\n",
       "      <td>8</td>\n",
       "      <td>1680</td>\n",
       "      <td>0.0</td>\n",
       "      <td>1987</td>\n",
       "      <td>0.0</td>\n",
       "      <td>98074</td>\n",
       "      <td>47.6168</td>\n",
       "      <td>-122.045</td>\n",
       "      <td>1800</td>\n",
       "      <td>7503</td>\n",
       "    </tr>\n",
       "  </tbody>\n",
       "</table>\n",
       "<p>5 rows × 21 columns</p>\n",
       "</div>"
      ],
      "text/plain": [
       "           id        date     price  bedrooms  bathrooms  sqft_living  \\\n",
       "0  7129300520  10/13/2014  221900.0         3       1.00         1180   \n",
       "1  6414100192   12/9/2014  538000.0         3       2.25         2570   \n",
       "2  5631500400   2/25/2015  180000.0         2       1.00          770   \n",
       "3  2487200875   12/9/2014  604000.0         4       3.00         1960   \n",
       "4  1954400510   2/18/2015  510000.0         3       2.00         1680   \n",
       "\n",
       "   sqft_lot  floors  waterfront  view  ...  grade  sqft_above  sqft_basement  \\\n",
       "0      5650     1.0         NaN   0.0  ...      7        1180            0.0   \n",
       "1      7242     2.0         0.0   0.0  ...      7        2170          400.0   \n",
       "2     10000     1.0         0.0   0.0  ...      6         770            0.0   \n",
       "3      5000     1.0         0.0   0.0  ...      7        1050          910.0   \n",
       "4      8080     1.0         0.0   0.0  ...      8        1680            0.0   \n",
       "\n",
       "  yr_built  yr_renovated  zipcode      lat     long  sqft_living15  sqft_lot15  \n",
       "0     1955           0.0    98178  47.5112 -122.257           1340        5650  \n",
       "1     1951        1991.0    98125  47.7210 -122.319           1690        7639  \n",
       "2     1933           NaN    98028  47.7379 -122.233           2720        8062  \n",
       "3     1965           0.0    98136  47.5208 -122.393           1360        5000  \n",
       "4     1987           0.0    98074  47.6168 -122.045           1800        7503  \n",
       "\n",
       "[5 rows x 21 columns]"
      ]
     },
     "execution_count": 2,
     "metadata": {},
     "output_type": "execute_result"
    }
   ],
   "source": [
    "data = pd.read_csv(\"kc_house_data.csv\")\n",
    "data.head()"
   ]
  },
  {
   "cell_type": "code",
   "execution_count": 3,
   "metadata": {},
   "outputs": [],
   "source": [
    "data = data[[\"price\",\"bedrooms\", \"yr_built\", \"grade\"]]\n",
    "pd_data = data.copy()"
   ]
  },
  {
   "cell_type": "code",
   "execution_count": 4,
   "metadata": {},
   "outputs": [
    {
     "data": {
      "text/html": [
       "<div>\n",
       "<style scoped>\n",
       "    .dataframe tbody tr th:only-of-type {\n",
       "        vertical-align: middle;\n",
       "    }\n",
       "\n",
       "    .dataframe tbody tr th {\n",
       "        vertical-align: top;\n",
       "    }\n",
       "\n",
       "    .dataframe thead th {\n",
       "        text-align: right;\n",
       "    }\n",
       "</style>\n",
       "<table border=\"1\" class=\"dataframe\">\n",
       "  <thead>\n",
       "    <tr style=\"text-align: right;\">\n",
       "      <th></th>\n",
       "      <th>total</th>\n",
       "      <th>percentage</th>\n",
       "    </tr>\n",
       "  </thead>\n",
       "  <tbody>\n",
       "    <tr>\n",
       "      <th>grade</th>\n",
       "      <td>0</td>\n",
       "      <td>0.0</td>\n",
       "    </tr>\n",
       "    <tr>\n",
       "      <th>yr_built</th>\n",
       "      <td>0</td>\n",
       "      <td>0.0</td>\n",
       "    </tr>\n",
       "    <tr>\n",
       "      <th>bedrooms</th>\n",
       "      <td>0</td>\n",
       "      <td>0.0</td>\n",
       "    </tr>\n",
       "    <tr>\n",
       "      <th>price</th>\n",
       "      <td>0</td>\n",
       "      <td>0.0</td>\n",
       "    </tr>\n",
       "  </tbody>\n",
       "</table>\n",
       "</div>"
      ],
      "text/plain": [
       "          total  percentage\n",
       "grade         0         0.0\n",
       "yr_built      0         0.0\n",
       "bedrooms      0         0.0\n",
       "price         0         0.0"
      ]
     },
     "execution_count": 4,
     "metadata": {},
     "output_type": "execute_result"
    }
   ],
   "source": [
    "def missing_value(data=None, columns=None):   # check for missing value in the data\n",
    "    if data is not None and columns is None:\n",
    "        total = data.isnull().sum().sort_values(ascending=False)\n",
    "        percent = (data.isnull().sum()/data.isnull().count()*100).sort_values(ascending = False)\n",
    "        return pd.concat([total, percent], axis=1, keys=[\"total\", \"percentage\"])\n",
    "    else:\n",
    "        if columns is not None and type(columns) is list:\n",
    "            total = data[columns].isnull().sum().sort_values(ascending=False)\n",
    "            percent = (data[columns].isnull().sum()/data[columns].isnull().count()*100).sort_values(ascending = False)\n",
    "            return pd.concat([total, percent], axis=1, keys=[\"total\", \"percentage\"])\n",
    "        \n",
    "missing_value(data=pd_data)"
   ]
  },
  {
   "cell_type": "code",
   "execution_count": 5,
   "metadata": {},
   "outputs": [
    {
     "data": {
      "text/html": [
       "<div>\n",
       "<style scoped>\n",
       "    .dataframe tbody tr th:only-of-type {\n",
       "        vertical-align: middle;\n",
       "    }\n",
       "\n",
       "    .dataframe tbody tr th {\n",
       "        vertical-align: top;\n",
       "    }\n",
       "\n",
       "    .dataframe thead th {\n",
       "        text-align: right;\n",
       "    }\n",
       "</style>\n",
       "<table border=\"1\" class=\"dataframe\">\n",
       "  <thead>\n",
       "    <tr style=\"text-align: right;\">\n",
       "      <th></th>\n",
       "      <th>price</th>\n",
       "      <th>bedrooms</th>\n",
       "      <th>yr_built</th>\n",
       "      <th>grade</th>\n",
       "    </tr>\n",
       "  </thead>\n",
       "  <tbody>\n",
       "    <tr>\n",
       "      <th>0</th>\n",
       "      <td>221900.0</td>\n",
       "      <td>3</td>\n",
       "      <td>1955</td>\n",
       "      <td>7</td>\n",
       "    </tr>\n",
       "    <tr>\n",
       "      <th>1</th>\n",
       "      <td>538000.0</td>\n",
       "      <td>3</td>\n",
       "      <td>1951</td>\n",
       "      <td>7</td>\n",
       "    </tr>\n",
       "    <tr>\n",
       "      <th>2</th>\n",
       "      <td>180000.0</td>\n",
       "      <td>2</td>\n",
       "      <td>1933</td>\n",
       "      <td>6</td>\n",
       "    </tr>\n",
       "    <tr>\n",
       "      <th>3</th>\n",
       "      <td>604000.0</td>\n",
       "      <td>4</td>\n",
       "      <td>1965</td>\n",
       "      <td>7</td>\n",
       "    </tr>\n",
       "    <tr>\n",
       "      <th>4</th>\n",
       "      <td>510000.0</td>\n",
       "      <td>3</td>\n",
       "      <td>1987</td>\n",
       "      <td>8</td>\n",
       "    </tr>\n",
       "    <tr>\n",
       "      <th>...</th>\n",
       "      <td>...</td>\n",
       "      <td>...</td>\n",
       "      <td>...</td>\n",
       "      <td>...</td>\n",
       "    </tr>\n",
       "    <tr>\n",
       "      <th>21592</th>\n",
       "      <td>360000.0</td>\n",
       "      <td>3</td>\n",
       "      <td>2009</td>\n",
       "      <td>8</td>\n",
       "    </tr>\n",
       "    <tr>\n",
       "      <th>21593</th>\n",
       "      <td>400000.0</td>\n",
       "      <td>4</td>\n",
       "      <td>2014</td>\n",
       "      <td>8</td>\n",
       "    </tr>\n",
       "    <tr>\n",
       "      <th>21594</th>\n",
       "      <td>402101.0</td>\n",
       "      <td>2</td>\n",
       "      <td>2009</td>\n",
       "      <td>7</td>\n",
       "    </tr>\n",
       "    <tr>\n",
       "      <th>21595</th>\n",
       "      <td>400000.0</td>\n",
       "      <td>3</td>\n",
       "      <td>2004</td>\n",
       "      <td>8</td>\n",
       "    </tr>\n",
       "    <tr>\n",
       "      <th>21596</th>\n",
       "      <td>325000.0</td>\n",
       "      <td>2</td>\n",
       "      <td>2008</td>\n",
       "      <td>7</td>\n",
       "    </tr>\n",
       "  </tbody>\n",
       "</table>\n",
       "<p>21597 rows × 4 columns</p>\n",
       "</div>"
      ],
      "text/plain": [
       "          price  bedrooms  yr_built  grade\n",
       "0      221900.0         3      1955      7\n",
       "1      538000.0         3      1951      7\n",
       "2      180000.0         2      1933      6\n",
       "3      604000.0         4      1965      7\n",
       "4      510000.0         3      1987      8\n",
       "...         ...       ...       ...    ...\n",
       "21592  360000.0         3      2009      8\n",
       "21593  400000.0         4      2014      8\n",
       "21594  402101.0         2      2009      7\n",
       "21595  400000.0         3      2004      8\n",
       "21596  325000.0         2      2008      7\n",
       "\n",
       "[21597 rows x 4 columns]"
      ]
     },
     "execution_count": 5,
     "metadata": {},
     "output_type": "execute_result"
    }
   ],
   "source": [
    "pd_data"
   ]
  },
  {
   "cell_type": "code",
   "execution_count": 6,
   "metadata": {},
   "outputs": [],
   "source": [
    "def explore_corr(data=None, figsize=(10,10)):  #explore correlation relative one column\n",
    "    fig, ax = plt.subplots(figsize=figsize);\n",
    "    return sns.heatmap(data.corr(), annot=True, linewidths=.5, ax=ax);"
   ]
  },
  {
   "cell_type": "code",
   "execution_count": 7,
   "metadata": {},
   "outputs": [
    {
     "data": {
      "image/png": "[encoded data removed]",
      "text/plain": [
       "<Figure size 720x720 with 2 Axes>"
      ]
     },
     "metadata": {
      "needs_background": "light"
     },
     "output_type": "display_data"
    }
   ],
   "source": [
    "explore_corr(data=pd_data);"
   ]
  },
  {
   "cell_type": "markdown",
   "metadata": {},
   "source": [
    "### normalization od data"
   ]
  },
  {
   "cell_type": "code",
   "execution_count": 8,
   "metadata": {},
   "outputs": [],
   "source": [
    "columns_norm = pd_data.iloc[:,1:]\n",
    "\n",
    "min_max_scaler = MinMaxScaler()\n",
    "features = min_max_scaler.fit_transform(columns_norm)\n",
    "\n",
    "X = features[:,:3]\n",
    "Y = data[\"price\"]"
   ]
  },
  {
   "cell_type": "code",
   "execution_count": 9,
   "metadata": {},
   "outputs": [],
   "source": [
    "# Linear Regression Model\n",
    "class LinearRegression:\n",
    "    \n",
    "    def __init__(self, x, w, y, eta):\n",
    "        self.eta = eta \n",
    "        self.inputs  = x   \n",
    "        self.weights = w               \n",
    "        self.target  = y\n",
    "        self.output  = np.zeros(self.target.shape)  # array of lenght target = len(target)\n",
    "\n",
    "    def forward_proc(self):\n",
    "        # forward processing of inputs and weights\n",
    "        self.output = np.dot(self.weights, self.inputs.T) \n",
    "\n",
    "    def backprop(self):\n",
    "        # backward processing of appling the chain rule to find derivative of the mean square error function with respect to weights\n",
    "        dw = (self.output - self.target) * self.inputs\n",
    "\n",
    "        # update the weights with the derivative of the loss function\n",
    "        self.weights -= self.eta * dw\n",
    "\n",
    "    def predict(self, x):\n",
    "        # predict the output for a given input x\n",
    "        return (np.dot(self.weights, x.T))\n",
    "        \n",
    "    def calculate_error(self):\n",
    "        # calculate error\n",
    "        error = self.target - self.output\n",
    "        return abs(error)"
   ]
  },
  {
   "cell_type": "code",
   "execution_count": 10,
   "metadata": {},
   "outputs": [],
   "source": [
    "features = X.shape[1] #  features = 3\n",
    "weights = np.random.randint(1, features) "
   ]
  },
  {
   "cell_type": "code",
   "execution_count": 11,
   "metadata": {},
   "outputs": [],
   "source": [
    "learning_rate = 0.5\n",
    "epochs = 1000"
   ]
  },
  {
   "cell_type": "code",
   "execution_count": 13,
   "metadata": {},
   "outputs": [
    {
     "name": "stdout",
     "output_type": "stream",
     "text": [
      "Loss: 22613.74904811429\n",
      "Loss: 17685.997472882096\n",
      "Loss: 22322.832925810828\n",
      "Loss: 72068.47176254974\n",
      "Loss: 198910.82310924155\n",
      "Loss: 46367.49693515641\n",
      "Loss: 49112.65316168731\n",
      "Loss: 72473.09238052461\n",
      "Loss: 50523.729565151094\n",
      "Loss: 78381.38657494239\n",
      "final weights[1193888.73018149  -68392.56686129  750086.698262  ]\n",
      "final loss 78381.38657494239\n"
     ]
    }
   ],
   "source": [
    "for epoch in range(epochs):\n",
    "    \n",
    "    rd.shuffle(X)  # shuffle the input data\n",
    "    \n",
    "    for index in range(len(X)):\n",
    "        \n",
    "        model = LinearRegression(X[index], weights, Y[index], learning_rate)\n",
    "        model.forward_proc() # forward_processing\n",
    "        model.backprop()     # backward_processing\n",
    "        weights = model.weights\n",
    "        \n",
    "    if (epoch % 100) == 0:\n",
    "        loss = model.calculate_error()\n",
    "        print(f\"Loss: {loss}\")\n",
    "            \n",
    "final_weights = weights\n",
    "final_loss = loss\n",
    "\n",
    "print(f\"final weights{final_weights}\")\n",
    "print(f\"final loss {loss}\")\n"
   ]
  },
  {
   "cell_type": "code",
   "execution_count": 16,
   "metadata": {},
   "outputs": [],
   "source": [
    "check_data = np.array([3, 1980, 8]).reshape(1, -1)\n",
    "check_data = min_max_scaler.transform(check_data) # normalization of data"
   ]
  },
  {
   "cell_type": "code",
   "execution_count": 17,
   "metadata": {},
   "outputs": [
    {
     "name": "stdout",
     "output_type": "stream",
     "text": [
      "402083.95695079543\n"
     ]
    }
   ],
   "source": [
    "predict_price = model.predict(check_data)\n",
    "print(predict_price[0])"
   ]
  },
  {
   "cell_type": "markdown",
   "metadata": {},
   "source": [
    "# Task: 2"
   ]
  },
  {
   "cell_type": "markdown",
   "metadata": {},
   "source": [
    "Predicting the survival of Titanic passengers by modifying the logistic regression sample code provided in Practice 2 at the class. You are going to use the famous Titanic dataset. Both the sample code and dataset are available in the class file directory. This is a binary classification problem: Based on passengers’ stats, predict whether a passenger will survive from the aground Titan or not. The dataset should be split into training data and test data with 80:20 ratio (15 points)"
   ]
  },
  {
   "cell_type": "markdown",
   "metadata": {},
   "source": [
    "A. Logistic Regression: Code in Practice 2\n",
    "    \n",
    "B. Dataset: Dataset in class file directory\n",
    "    \n",
    "C. The classification, i.e., survival, is based on sex, age and economic status (Pclass) of\n",
    "the dataset. You should extend the code provided in Practice 2 for classification using\n",
    "these features.\n",
    "\n",
    "D. Performance metrics should include the confusion matrix, accuracy score,\n",
    "classification report. You can measure the performance in both training and test data, but submit the performance metrics in test data only."
   ]
  },
  {
   "cell_type": "markdown",
   "metadata": {},
   "source": [
    "### LogisticRegression"
   ]
  },
  {
   "cell_type": "code",
   "execution_count": 18,
   "metadata": {},
   "outputs": [],
   "source": [
    "def sigmoid(x):\n",
    "    return 1.0/(1+ np.exp(-x))\n",
    "\n",
    "def sigmoid_derivative(x):\n",
    "    return x * (1.0 - x)\n",
    "\n",
    "# Logistic Regression Model\n",
    "class LogisticRegression:\n",
    "    \n",
    "    def __init__(self, x, w, y,lr):\n",
    "        self.lr = lr\n",
    "        self.inputs  = x\n",
    "        self.weights = w               \n",
    "        self.target  = y\n",
    "        self.output  = np.zeros(self.target.shape)\n",
    "\n",
    "    def forward_proc(self):\n",
    "       # forward processing of inputs and weights using sigmoid activation function \n",
    "        self.output = sigmoid(np.dot(self.weights, self.inputs.T))\n",
    "\n",
    "    def backprop(self):\n",
    "        # backward processing of appling the chain rule to find derivative of the cross-entropy losss w.r.t weights\n",
    "        dw = (self.output - self.target) * self.inputs # same formular for both linear and logistic regression\n",
    "\n",
    "        # update the weights with the derivative of the loss function\n",
    "        self.weights -= self.lr * dw\n",
    "\n",
    "    def predict(self, x):\n",
    "        # predict the output for a given input x\n",
    "        return (sigmoid(np.dot(self.weights, x.T)))\n",
    "        \n",
    "    def calculate_error(self):\n",
    "        # calculate error\n",
    "        error = -self.target * math.log(self.output) - (1-self.target) * math.log(1-self.output)\n",
    "        return abs(error)"
   ]
  },
  {
   "cell_type": "code",
   "execution_count": 19,
   "metadata": {},
   "outputs": [],
   "source": [
    "data = pd.read_csv(\"titanic_data.csv\")"
   ]
  },
  {
   "cell_type": "code",
   "execution_count": 20,
   "metadata": {},
   "outputs": [
    {
     "data": {
      "text/html": [
       "<div>\n",
       "<style scoped>\n",
       "    .dataframe tbody tr th:only-of-type {\n",
       "        vertical-align: middle;\n",
       "    }\n",
       "\n",
       "    .dataframe tbody tr th {\n",
       "        vertical-align: top;\n",
       "    }\n",
       "\n",
       "    .dataframe thead th {\n",
       "        text-align: right;\n",
       "    }\n",
       "</style>\n",
       "<table border=\"1\" class=\"dataframe\">\n",
       "  <thead>\n",
       "    <tr style=\"text-align: right;\">\n",
       "      <th></th>\n",
       "      <th>total</th>\n",
       "      <th>percentage</th>\n",
       "    </tr>\n",
       "  </thead>\n",
       "  <tbody>\n",
       "    <tr>\n",
       "      <th>Cabin</th>\n",
       "      <td>687</td>\n",
       "      <td>77.104377</td>\n",
       "    </tr>\n",
       "    <tr>\n",
       "      <th>Age</th>\n",
       "      <td>177</td>\n",
       "      <td>19.865320</td>\n",
       "    </tr>\n",
       "    <tr>\n",
       "      <th>Embarked</th>\n",
       "      <td>2</td>\n",
       "      <td>0.224467</td>\n",
       "    </tr>\n",
       "    <tr>\n",
       "      <th>Fare</th>\n",
       "      <td>0</td>\n",
       "      <td>0.000000</td>\n",
       "    </tr>\n",
       "    <tr>\n",
       "      <th>Ticket</th>\n",
       "      <td>0</td>\n",
       "      <td>0.000000</td>\n",
       "    </tr>\n",
       "    <tr>\n",
       "      <th>Parch</th>\n",
       "      <td>0</td>\n",
       "      <td>0.000000</td>\n",
       "    </tr>\n",
       "    <tr>\n",
       "      <th>SibSp</th>\n",
       "      <td>0</td>\n",
       "      <td>0.000000</td>\n",
       "    </tr>\n",
       "    <tr>\n",
       "      <th>Sex</th>\n",
       "      <td>0</td>\n",
       "      <td>0.000000</td>\n",
       "    </tr>\n",
       "    <tr>\n",
       "      <th>Name</th>\n",
       "      <td>0</td>\n",
       "      <td>0.000000</td>\n",
       "    </tr>\n",
       "    <tr>\n",
       "      <th>Pclass</th>\n",
       "      <td>0</td>\n",
       "      <td>0.000000</td>\n",
       "    </tr>\n",
       "    <tr>\n",
       "      <th>Survived</th>\n",
       "      <td>0</td>\n",
       "      <td>0.000000</td>\n",
       "    </tr>\n",
       "    <tr>\n",
       "      <th>PassengerId</th>\n",
       "      <td>0</td>\n",
       "      <td>0.000000</td>\n",
       "    </tr>\n",
       "  </tbody>\n",
       "</table>\n",
       "</div>"
      ],
      "text/plain": [
       "             total  percentage\n",
       "Cabin          687   77.104377\n",
       "Age            177   19.865320\n",
       "Embarked         2    0.224467\n",
       "Fare             0    0.000000\n",
       "Ticket           0    0.000000\n",
       "Parch            0    0.000000\n",
       "SibSp            0    0.000000\n",
       "Sex              0    0.000000\n",
       "Name             0    0.000000\n",
       "Pclass           0    0.000000\n",
       "Survived         0    0.000000\n",
       "PassengerId      0    0.000000"
      ]
     },
     "execution_count": 20,
     "metadata": {},
     "output_type": "execute_result"
    }
   ],
   "source": [
    "missing_value(data)"
   ]
  },
  {
   "cell_type": "code",
   "execution_count": 21,
   "metadata": {},
   "outputs": [
    {
     "data": {
      "text/plain": [
       "PassengerId    0\n",
       "Survived       0\n",
       "Pclass         0\n",
       "Name           0\n",
       "Sex            0\n",
       "Age            0\n",
       "SibSp          0\n",
       "Parch          0\n",
       "Ticket         0\n",
       "Fare           0\n",
       "Cabin          0\n",
       "Embarked       0\n",
       "dtype: int64"
      ]
     },
     "execution_count": 21,
     "metadata": {},
     "output_type": "execute_result"
    }
   ],
   "source": [
    "data.dropna(inplace=True)\n",
    "data.isna().sum()"
   ]
  },
  {
   "cell_type": "code",
   "execution_count": 22,
   "metadata": {},
   "outputs": [
    {
     "name": "stdout",
     "output_type": "stream",
     "text": [
      "<class 'pandas.core.frame.DataFrame'>\n",
      "Int64Index: 183 entries, 1 to 889\n",
      "Data columns (total 12 columns):\n",
      " #   Column       Non-Null Count  Dtype  \n",
      "---  ------       --------------  -----  \n",
      " 0   PassengerId  183 non-null    int64  \n",
      " 1   Survived     183 non-null    int64  \n",
      " 2   Pclass       183 non-null    int64  \n",
      " 3   Name         183 non-null    object \n",
      " 4   Sex          183 non-null    object \n",
      " 5   Age          183 non-null    float64\n",
      " 6   SibSp        183 non-null    int64  \n",
      " 7   Parch        183 non-null    int64  \n",
      " 8   Ticket       183 non-null    object \n",
      " 9   Fare         183 non-null    float64\n",
      " 10  Cabin        183 non-null    object \n",
      " 11  Embarked     183 non-null    object \n",
      "dtypes: float64(2), int64(5), object(5)\n",
      "memory usage: 18.6+ KB\n"
     ]
    }
   ],
   "source": [
    "data.info()"
   ]
  },
  {
   "cell_type": "code",
   "execution_count": 23,
   "metadata": {},
   "outputs": [],
   "source": [
    "data = data.replace({\"female\":0, \"male\":1})"
   ]
  },
  {
   "cell_type": "code",
   "execution_count": 24,
   "metadata": {},
   "outputs": [],
   "source": [
    "Y = data[\"Survived\"]\n",
    "X = data[[\"Sex\", \"Age\", \"Pclass\"]]\n"
   ]
  },
  {
   "cell_type": "code",
   "execution_count": 25,
   "metadata": {},
   "outputs": [],
   "source": [
    "scaler = StandardScaler()\n",
    "X = scaler.fit_transform(X)\n",
    "X_train, X_test, Y_train, Y_test = train_test_split(X,Y, test_size=0.2)\n",
    "# The dataset should be split into trainging data and test data with ratio 80:20"
   ]
  },
  {
   "cell_type": "code",
   "execution_count": 26,
   "metadata": {},
   "outputs": [
    {
     "data": {
      "text/plain": [
       "array([[0.29691145, 0.74827359, 0.82890352]])"
      ]
     },
     "execution_count": 26,
     "metadata": {},
     "output_type": "execute_result"
    }
   ],
   "source": [
    "features = X.shape[1] # 3\n",
    "weights = rd.rand(1, features)\n",
    "weights"
   ]
  },
  {
   "cell_type": "code",
   "execution_count": 27,
   "metadata": {},
   "outputs": [],
   "source": [
    "lr = 0.7       # learning rate\n",
    "epochs = 10000   # Iterate"
   ]
  },
  {
   "cell_type": "code",
   "execution_count": 28,
   "metadata": {},
   "outputs": [
    {
     "name": "stdout",
     "output_type": "stream",
     "text": [
      "Loss: 1.9283316144202138\n",
      "Loss: 0.6172808589255477\n",
      "Loss: 0.5103383307510152\n",
      "Loss: 0.666332337066468\n",
      "Loss: 0.34979931521086105\n",
      "Loss: 0.3929978832445174\n",
      "Loss: 0.8763844301846109\n",
      "Loss: 1.2790103564909325\n",
      "Loss: 0.8352687805513159\n",
      "Loss: 0.7339403507063383\n",
      "Adjusted Weights: [[ 0.59906037 -0.09395271 -1.02872569]]\n"
     ]
    }
   ],
   "source": [
    "for epoch in range(epochs):\n",
    "    \n",
    "    rd.shuffle(X_train)  # shuffle the input data\n",
    "    \n",
    "    for index in range(len(X_train)):\n",
    "        \n",
    "        model = LogisticRegression(X_train[index], weights, Y_train.values[index], learning_rate)\n",
    "        model.forward_proc() # forward_processing\n",
    "        model.backprop()     # backward_processing\n",
    "        weights = model.weights\n",
    "        \n",
    "    if (epoch % 1000) == 0:\n",
    "        loss = model.calculate_error()\n",
    "        print(f\"Loss: {loss}\")\n",
    "            \n",
    "final_weights = weights\n",
    "final_loss = loss\n",
    "\n",
    "print(\"Adjusted Weights:\", model.weights)"
   ]
  },
  {
   "cell_type": "code",
   "execution_count": 29,
   "metadata": {},
   "outputs": [],
   "source": [
    "predicted = model.predict(X_test)[0]"
   ]
  },
  {
   "cell_type": "code",
   "execution_count": 30,
   "metadata": {},
   "outputs": [],
   "source": [
    "predict_out = []\n",
    "for prediction in predicted:\n",
    "    if prediction >= 0.5:\n",
    "        predict_out.append(1)\n",
    "    else:\n",
    "        predict_out.append(0)"
   ]
  },
  {
   "cell_type": "code",
   "execution_count": 31,
   "metadata": {},
   "outputs": [
    {
     "name": "stdout",
     "output_type": "stream",
     "text": [
      "Confusion_matrix :\n",
      "[[ 5  6]\n",
      " [16 10]]\n",
      "Classification Report\n",
      "              precision    recall  f1-score   support\n",
      "\n",
      "           0       0.24      0.45      0.31        11\n",
      "           1       0.62      0.38      0.48        26\n",
      "\n",
      "    accuracy                           0.41        37\n",
      "   macro avg       0.43      0.42      0.39        37\n",
      "weighted avg       0.51      0.41      0.43        37\n",
      "\n",
      "0.40540540540540543\n"
     ]
    }
   ],
   "source": [
    "results = confusion_matrix(Y_test, predict_out)\n",
    "print(\"Confusion_matrix :\")\n",
    "print(results)\n",
    "print(\"Classification Report\")\n",
    "print(classification_report(Y_test, predict_out))\n",
    "print(accuracy_score(Y_test, predict_out))"
   ]
  },
  {
   "cell_type": "markdown",
   "metadata": {},
   "source": [
    "# Task: 3"
   ]
  },
  {
   "cell_type": "markdown",
   "metadata": {},
   "source": [
    "In this problem, you will implement multiclass-classification using Scikit library. The dataset is Iris dataset. Here, the dataset should be split into training data and test data with 70:30 ratio. You will implement multi-class classification using logistic regression, Naïve Bayes classifier, and Gaussian RBF of SVM. You will compare the performances of these classifiers in terms of accuracy and confusion matrix, recall, precision and F1-score (30 points)."
   ]
  },
  {
   "cell_type": "markdown",
   "metadata": {},
   "source": [
    "A. Dataset: Iris dataset of Practice 1\n",
    "\n",
    "B. Logistic Regression (LogistRegression_P3.py)\n",
    "\n",
    "C. SVM with one-vs-all approach (SVM_P3.py)\n",
    "\n",
    "D. Naïve Bayes (NB_P3.py)\n",
    "\n",
    "E. Performance metrics: accuracy, confusion matrix, recall, precision and F1-score\n",
    "    \n",
    "F. Comparative performance evaluation of logistic regression, SVM and NB for multi-\n",
    "class classification"
   ]
  },
  {
   "cell_type": "code",
   "execution_count": 32,
   "metadata": {},
   "outputs": [],
   "source": [
    "from sklearn import datasets\n",
    "from sklearn.naive_bayes import GaussianNB"
   ]
  },
  {
   "cell_type": "code",
   "execution_count": 33,
   "metadata": {},
   "outputs": [],
   "source": [
    "iris = datasets.load_iris()"
   ]
  },
  {
   "cell_type": "code",
   "execution_count": 34,
   "metadata": {},
   "outputs": [],
   "source": [
    "scaler = StandardScaler()\n",
    "X = scaler.fit_transform(iris[\"data\"])\n",
    "y = iris[\"target\"]"
   ]
  },
  {
   "cell_type": "code",
   "execution_count": 35,
   "metadata": {},
   "outputs": [],
   "source": [
    "X_train, X_test, y_train, y_test = train_test_split(X, y, test_size=0.3, random_state=1)"
   ]
  },
  {
   "cell_type": "markdown",
   "metadata": {},
   "source": [
    "### Caussian Model"
   ]
  },
  {
   "cell_type": "code",
   "execution_count": 36,
   "metadata": {},
   "outputs": [
    {
     "data": {
      "text/plain": [
       "GaussianNB()"
      ]
     },
     "execution_count": 36,
     "metadata": {},
     "output_type": "execute_result"
    }
   ],
   "source": [
    "GaussianModel = GaussianNB() #training a Naive Bayes classifier\n",
    "GaussianModel.fit(X_train, y_train)"
   ]
  },
  {
   "cell_type": "code",
   "execution_count": 37,
   "metadata": {},
   "outputs": [
    {
     "name": "stdout",
     "output_type": "stream",
     "text": [
      "Weighted Gausian Recall Score: 0.93\n",
      "Weighted Gausian precision Score: 0.94\n",
      "Weighted Gausian F1-Score: 0.93\n",
      "Weighted Gaussian Accuracy: 0.93\n",
      "[[14  0  0]\n",
      " [ 0 16  2]\n",
      " [ 0  1 12]]\n"
     ]
    }
   ],
   "source": [
    "gaussian_predict = GaussianModel.predict(X_test)\n",
    "\n",
    "#Creating a canfusion matrix\n",
    "conf_matrix = confusion_matrix(y_test, gaussian_predict) \n",
    "\n",
    "gaussian_recall = recall_score(y_test, gaussian_predict, average=\"weighted\")\n",
    "print(f\"Weighted Gausian Recall Score: {gaussian_recall:.2f}\")\n",
    "\n",
    "gaussian_precision = precision_score(y_test, gaussian_predict, average=\"weighted\")\n",
    "print(f\"Weighted Gausian precision Score: {gaussian_precision:.2f}\")\n",
    "\n",
    "gaussian_f1_score = f1_score(y_test, gaussian_predict, average=\"weighted\")\n",
    "print(f\"Weighted Gausian F1-Score: {gaussian_f1_score:.2f}\")\n",
    "\n",
    "gaussian_accuracy = GaussianModel.score(X_test, y_test)\n",
    "print(f\"Weighted Gaussian Accuracy: {gaussian_accuracy:.2f}\")\n",
    "print(conf_matrix)"
   ]
  },
  {
   "cell_type": "markdown",
   "metadata": {},
   "source": [
    "### SVC model"
   ]
  },
  {
   "cell_type": "code",
   "execution_count": 38,
   "metadata": {},
   "outputs": [
    {
     "data": {
      "text/plain": [
       "SVC(gamma=0.5)"
      ]
     },
     "execution_count": 38,
     "metadata": {},
     "output_type": "execute_result"
    }
   ],
   "source": [
    "from sklearn.svm import SVC\n",
    "rbf = SVC(kernel=\"rbf\", gamma=0.5, C=1.0)\n",
    "rbf.fit(X_train, y_train)"
   ]
  },
  {
   "cell_type": "code",
   "execution_count": 39,
   "metadata": {},
   "outputs": [],
   "source": [
    "rbf_predict = rbf.predict(X_test)"
   ]
  },
  {
   "cell_type": "code",
   "execution_count": 40,
   "metadata": {},
   "outputs": [
    {
     "name": "stdout",
     "output_type": "stream",
     "text": [
      "Weighted SVC Recall Score: 0.96\n",
      "Weighted SVC precision Score: 0.96\n",
      "Weighted SVC F1-Score: 0.96\n",
      "Wighted SVC Accuracy: 0.96\n",
      "[[14  0  0]\n",
      " [ 0 17  1]\n",
      " [ 0  1 12]]\n"
     ]
    }
   ],
   "source": [
    "#Creating a canfusion matrix\n",
    "rbf_canf_matrix =  confusion_matrix(y_test, rbf_predict) \n",
    "\n",
    "rbf_recall = recall_score(y_test, rbf_predict, average=\"weighted\")\n",
    "print(f\"Weighted SVC Recall Score: {rbf_recall:.2f}\")\n",
    "\n",
    "rbf_precision = precision_score(y_test, rbf_predict, average=\"weighted\")\n",
    "print(f\"Weighted SVC precision Score: {rbf_precision:.2f}\")\n",
    "\n",
    "rbf_f1_score = f1_score(y_test, rbf_predict, average=\"weighted\")\n",
    "print(f\"Weighted SVC F1-Score: {rbf_f1_score:.2f}\")\n",
    "\n",
    "# Accuracy on X_test\n",
    "rbf_accuracy = rbf.score(X_test, y_test)\n",
    "print(f\"Wighted SVC Accuracy: {rbf_accuracy:.2f}\")\n",
    "print(rbf_canf_matrix)"
   ]
  },
  {
   "cell_type": "markdown",
   "metadata": {},
   "source": [
    "### Logistic Regression"
   ]
  },
  {
   "cell_type": "code",
   "execution_count": 41,
   "metadata": {},
   "outputs": [],
   "source": [
    "from sklearn.linear_model import LogisticRegression"
   ]
  },
  {
   "cell_type": "code",
   "execution_count": 42,
   "metadata": {},
   "outputs": [
    {
     "data": {
      "text/plain": [
       "LogisticRegression(C=100000.0)"
      ]
     },
     "execution_count": 42,
     "metadata": {},
     "output_type": "execute_result"
    }
   ],
   "source": [
    "# Traing\n",
    "logistic_reg = LogisticRegression(C=1e5,)\n",
    "logistic_reg.fit(X_train, y_train)"
   ]
  },
  {
   "cell_type": "code",
   "execution_count": 43,
   "metadata": {},
   "outputs": [],
   "source": [
    "log_predict = logistic_reg.predict(X_test)"
   ]
  },
  {
   "cell_type": "code",
   "execution_count": 44,
   "metadata": {},
   "outputs": [
    {
     "name": "stdout",
     "output_type": "stream",
     "text": [
      "Weighted Logistic Recall Score: 1.0\n",
      "Weighted Logistic precision Score: 1.0\n",
      "Weighted Logistic F1-Score: 1.0\n",
      "Weighted Logistic Accuracy: 1.0\n",
      "[[14  0  0]\n",
      " [ 0 18  0]\n",
      " [ 0  0 13]]\n"
     ]
    }
   ],
   "source": [
    "#Creating a canfusion matrix\n",
    "log_canf_matrix =  confusion_matrix(y_test, log_predict) \n",
    "\n",
    "log_recall = recall_score(y_test, log_predict, average=\"weighted\")\n",
    "print(f\"Weighted Logistic Recall Score: {log_recall}\")\n",
    "\n",
    "rog_precision = precision_score(y_test, log_predict, average=\"weighted\")\n",
    "print(f\"Weighted Logistic precision Score: {rog_precision}\")\n",
    "\n",
    "log_f1_score = f1_score(y_test, log_predict, average=\"weighted\")\n",
    "print(f\"Weighted Logistic F1-Score: {log_f1_score}\")\n",
    "\n",
    "log_accuracy = logistic_reg.score(X_test, y_test)\n",
    "print(f\"Weighted Logistic Accuracy: {log_accuracy}\")\n",
    "\n",
    "print(log_canf_matrix)"
   ]
  },
  {
   "cell_type": "markdown",
   "metadata": {},
   "source": [
    "### Model Comparisions"
   ]
  },
  {
   "cell_type": "code",
   "execution_count": 45,
   "metadata": {},
   "outputs": [],
   "source": [
    "conteiner = {\"Gaussian\":[gaussian_accuracy, gaussian_recall, gaussian_precision, gaussian_f1_score],\n",
    "            \"SVC\": [rbf_accuracy, rbf_recall, rbf_precision, rbf_f1_score],\n",
    "            \"Logistic Regression\": [log_accuracy,log_recall, rog_precision, log_f1_score]}\n",
    "x_value = [\"Accuracy\", \"Recall\", \"Precision\", \"F1-Score\"]"
   ]
  },
  {
   "cell_type": "code",
   "execution_count": 46,
   "metadata": {},
   "outputs": [
    {
     "data": {
      "image/png": "[encoded data removed]",
      "text/plain": [
       "<Figure size 1080x720 with 3 Axes>"
      ]
     },
     "metadata": {},
     "output_type": "display_data"
    }
   ],
   "source": [
    "sns.set(style=\"whitegrid\", context=\"talk\")\n",
    "fig, axs = plt.subplots(2,2, figsize=(15,10))\n",
    "fig.delaxes(axs[1,1])\n",
    "index = 0\n",
    "for key in conteiner:\n",
    "    plt.subplot(2,2, index+1)\n",
    "    plt.tight_layout()\n",
    "    plt.bar(x_value, conteiner[key])\n",
    "    plt.title(f\" Model Comparisions of {key}\")\n",
    "    index = index + 1"
   ]
  },
  {
   "cell_type": "code",
   "execution_count": null,
   "metadata": {},
   "outputs": [],
   "source": []
  },
  {
   "cell_type": "code",
   "execution_count": null,
   "metadata": {},
   "outputs": [],
   "source": []
  },
  {
   "cell_type": "code",
   "execution_count": null,
   "metadata": {},
   "outputs": [],
   "source": []
  }
 ],
 "metadata": {
  "kernelspec": {
   "display_name": "Python 3",
   "language": "python",
   "name": "python3"
  },
  "language_info": {
   "codemirror_mode": {
    "name": "ipython",
    "version": 3
   },
   "file_extension": ".py",
   "mimetype": "text/x-python",
   "name": "python",
   "nbconvert_exporter": "python",
   "pygments_lexer": "ipython3",
   "version": "3.8.5"
  }
 },
 "nbformat": 4,
 "nbformat_minor": 4
}
